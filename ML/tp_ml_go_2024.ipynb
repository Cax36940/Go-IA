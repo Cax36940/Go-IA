{
 "cells": [
  {
   "cell_type": "markdown",
   "metadata": {
    "id": "BzTfCbHzN1Wj"
   },
   "source": [
    "# Apprenez une heuristique pour le Go\n",
    "\n",
    "Dans ce **TP noté**, vous devrez déployer des methodes d'apprentissage automatique permettant d'évaluer la qualité de plateaux de GO.\n",
    "\n",
    "Pour cela, vous disposerez de 21854 exemples de plateau de Go, tous générés par `gnugo` après quelques coups contre lui même avec un niveau de difficulté de 0. Par chaque plateau, nous avons lancé 100 matchs de gnugo contre lui même, toujours avec un niveau 0, et compté le nombre de victoires de noir et de blanc depuis ce plateau.\n",
    "\n",
    "A noter, chaque \"rollout\" (un rollout et un déroulement possible du match depuis le plateau de référence) correspond à des mouvements choisis aléatoirement parmis les 10 meilleurs mouvements possibles, en biasant le choix aléatoire par la qualité prédite du mouvement par gnugo (les meilleurs mouvements ont une plus forte probabilité d'être tirés).\n",
    "\n",
    "Les données dont vous disposez sont brutes. Ce sera à vous de proposer un format adéquat pour utiliser ces données en entrée de votre réseau neuronal.\n",
    "\n",
    "\n",
    "## Comment sera évalué votre modèle ?\n",
    "\n",
    "Nous vous fournirons 6h avant la date de rendu un nouveau fichier contenant 1000 nouveaux exemples, qui ne contiendront pas les champs `black_wins`, `white_wins`, `black_points` et `white_points`. Vous devrez laisser, dans votre dépot de projet (votre dépot GIT sous un sous-répertoire ML) un fichier texte nommé `my_predictions.txt` ayant une prédiction par ligne (un simple flottant) qui donnera, dans le même ordre de la liste des exemples les scores que vous prédisez pour chacune des entrées du fichier que nous vous aurons donné. ** Les scores seront donnés sous forme d'un flottant, entre 0 et 1, donnant la probabilité de victoire de noir sur le plateau considéré **. Il faudra laisser, dans votre feuille notebook (voir tout en dessous) la cellule Python qui aura créé ce fichier, pour que l'on puisse éventuellement refaire vos prédictions.\n",
    "\n",
    "Bien entendu, vous nous rendrez également votre feuille jupyter **sous deux formats**, à la fois le fichier `.ipynb` et le fichier `.html` nous permettant de lire ce que vous avez fait, sans forcément relancer la feuille. Nous prendrons en compte les résultats obtenus sur les prédictions mais aussi le contenu de vos notebooks jupyter.\n",
    "\n",
    "### Comment sera noté ce TP ?\n",
    "\n",
    "**Il s'agit d'un TP noté (et non pas d'un projet), donc il ne faudra pas y passer trop de temps**. Nous attendons des prédictions correctes mais surtout des choix justifiés dans la feuille. Votre feuille notebook sera le plus important pour la notation (n'hésitez pas à mettre des cellules de texte pour expliquer pourquoi vous avez été amenés à faire certains choix). Ainsi, il serait bien d'avoir, par exemple, les données (graphiques ou autre) qui permettent de comprendre comment vous avez évité l'overfitting.\n",
    "\n",
    "Le fichier de vos prédiction sera évalué en se basant sur la qualité de vos prédictions. Nous mesurerons par exemple (juste pour vous donner une idée) le nombre d'exemples dont votre prédiction donnera la bonne valeur à 5%, 10%, 20%, 35%, 50% pour estimer sa qualité.\n",
    "\n",
    "\n",
    "## Mise en route !\n",
    "\n",
    "Voyons  comment lire les données\n"
   ]
  },
  {
   "cell_type": "code",
   "execution_count": 2,
   "metadata": {
    "colab": {
     "base_uri": "https://localhost:8080/"
    },
    "id": "IQyK1qLZN1Wl",
    "outputId": "5924f94d-5257-4361-8e84-e1f7dc050685"
   },
   "outputs": [
    {
     "name": "stdout",
     "output_type": "stream",
     "text": [
      "We have 664848 examples\n",
      "white: 355600 black: 309248\n",
      "white: 355600 black: 355600\n"
     ]
    }
   ],
   "source": [
    "# Import du fichier d'exemples\n",
    "import numpy as np\n",
    "\n",
    "def get_processed_data_go():\n",
    "\timport json\n",
    "\twith open('database-8x8.json', 'r') as f:\n",
    "\t\treturn json.load(f)\n",
    "\n",
    "data = get_processed_data_go()\n",
    "print(\"We have\", len(data),\"examples\")\n",
    "\n",
    "def prepare_data(data):\n",
    "\tsizetraining = int(len(data) * 0.33)\n",
    "\tblack = []\n",
    "\twhite = []\n",
    "\tfor games in data:\n",
    "\t\tif games[\"black_wins\"]/100 >= 0.5:\n",
    "\t\t\tblack.append(games)\n",
    "\t\telse:\n",
    "\t\t\twhite.append(games)\n",
    "\tnbblack = len(black)\n",
    "\tnbwhite = len(white)\n",
    "\n",
    "\tprint(\"white:\", nbwhite, \"black:\", nbblack)\n",
    "\n",
    "\twhile nbblack > nbwhite:\n",
    "\t\tshuffledwhite = white.copy()\n",
    "\t\twhite = np.concatenate((white, shuffledwhite[:nbblack - nbwhite]))\n",
    "\t\tnbwhite = len(white)\n",
    "\t\tnp.random.shuffle(white)\n",
    "\n",
    "\twhile nbwhite > nbblack:\n",
    "\t\tshuffledblack = black.copy()\n",
    "\t\tblack = np.concatenate((black, shuffledblack[:nbwhite - nbblack]))\n",
    "\t\tnbblack = len(black)\n",
    "\t\tnp.random.shuffle(black)\n",
    "\n",
    "\tprint(\"white:\", nbwhite, \"black:\", nbblack)\n",
    "\n",
    "\ttrain_white = white[:sizetraining]\n",
    "\tval_white = white[sizetraining:]\n",
    "\ttrain_black = black[:sizetraining]\n",
    "\tval_black = black[sizetraining:]\n",
    "\ttrain_data = np.concatenate((train_black, train_white))\n",
    "\tnp.random.shuffle(train_data)\n",
    "\tval_data = np.concatenate((val_black, val_white))\n",
    "\tnp.random.shuffle(val_data)\n",
    "\treturn train_data, val_data\n",
    "\n",
    "size = 30000\n",
    "new_datas = prepare_data(data)"
   ]
  },
  {
   "cell_type": "markdown",
   "metadata": {
    "id": "WaSjA3uPN1Wn"
   },
   "source": [
    "## Compréhension des données de chaque entrée\n",
    "\n",
    "Voici une description de chaque exemple"
   ]
  },
  {
   "cell_type": "code",
   "execution_count": 3,
   "metadata": {
    "colab": {
     "base_uri": "https://localhost:8080/"
    },
    "id": "oCKzso-aN1Wn",
    "outputId": "96be7d06-ba1a-4c17-9ae2-2970695125f5"
   },
   "outputs": [],
   "source": [
    "def summary_of_example(data, sample_nb):\n",
    "    ''' Gives you some insights about a sample number'''\n",
    "    sample = data[sample_nb]\n",
    "    print(\"Sample\", sample_nb)\n",
    "    print()\n",
    "    print(\"Données brutes en format JSON:\", sample)\n",
    "    print()\n",
    "    print(\"The sample was obtained after\", sample[\"depth\"], \"moves\")\n",
    "    print(\"The successive moves were\", sample[\"list_of_moves\"])\n",
    "    print(\"After these moves and all the captures, there was black stones at the following position\", sample[\"black_stones\"])\n",
    "    print(\"After these moves and all the captures, there was white stones at the following position\", sample[\"white_stones\"])\n",
    "    print(\"Number of rollouts (gnugo games played against itself from this position):\", sample[\"rollouts\"])\n",
    "    print(\"Over these\", sample[\"rollouts\"], \"games, black won\", sample[\"black_wins\"], \"times with\", sample[\"black_points\"], \"total points over all this winning games\")\n",
    "    print(\"Over these\", sample[\"rollouts\"], \"games, white won\", sample[\"white_wins\"], \"times with\", sample[\"white_points\"], \"total points over all this winning games\")\n",
    "\n",
    "# summary_of_example(data,10)"
   ]
  },
  {
   "cell_type": "markdown",
   "metadata": {
    "id": "e-AdNZZEN1Wo"
   },
   "source": [
    "## Données en entrée et en sortie de votre modèle final\n",
    "\n",
    "Même si en interne, votre modèle va manipuler des tenseurs en numpy, vous devrez construire une boite noire qui prendra en entrée les données dans le style du JSON ci-dessous. Typiquement, vous aurez le même genre de fichier avec seulement les champs `black_stones`, `white_stones`, `depth` et `list_of_moves` de renseignées. Vous devrez utiliser ces champs, dont notemment les coordonnées des pierres noires et blanches et donner le pourcentage de chance pour noir de gagner depuis cette position.\n",
    "\n",
    "Ainsi, pour l'exemple `i` :\n",
    "- Vous pourrez prendez en entree `data[i][\"black_stones\"]` et `data[i][\"white_stones\"]` (vous pouvez, si vous le souhaitez, prendre en compte également `list_of_moves` ou tout autre donnée que vous calculerez vous-même (mais qui ne se basera évidemment pas sur les données que vous n'aurez pas lors de l'évaluation).\n",
    "- Vous devrez prédire simplement `data[i][\"black_wins\"]/data[i][\"rollouts\"]` en float (donc une valeur entre 0 et 1).\n",
    "\n",
    "Encore une fois, **attention** : en interne, il faudra absolument construire vos données formattées en matrices numpy pour faire votre entrainement. On vous demande juste ici d'écrire comment vous faites ces transformations, pour comprendre ce que vous avez décidé de mettre en entrée du réseau.\n",
    "\n",
    "Voici par exemple le modèle de la fonction qui pourra être appelée, au final :\n"
   ]
  },
  {
   "cell_type": "code",
   "execution_count": 4,
   "metadata": {
    "colab": {
     "base_uri": "https://localhost:8080/"
    },
    "id": "kxeEQ89HN1Wp",
    "outputId": "9956cdb6-ec15-4085-b917-bf89c169bf3b"
   },
   "outputs": [],
   "source": [
    "def position_predict(black_stones, white_stones):\n",
    "\n",
    "    # ... Votre tambouille interne pour placer les pierres comme il faut dans votre structure de données\n",
    "    # et appeler votre modèle Keras (typiquement avec model.predict())\n",
    "    prediction = None # model.predict(...) # A REMPLIR CORRECTEMENT\n",
    "\n",
    "    return prediction\n",
    "\n",
    "# Par exemple, nous pourrons appeler votre prédiction ainsi\n",
    "\n",
    "# print(\"Prediction this sample:\")\n",
    "# data_index = 1\n",
    "# summary_of_example(data, data_index)\n",
    "# print()\n",
    "# prediction = position_predict(data[data_index][\"black_stones\"], data[data_index][\"white_stones\"])\n",
    "# print(\"You predicted\", prediction, \"and the actual target was\", data[data_index][\"black_wins\"]/data[data_index][\"rollouts\"])\n",
    "\n",
    "# Ainsi, pour le rendu, en admettant que newdata soit la structure de données issue du json contenant les nouvelles données que\n",
    "# l'on vous donnera 24h avant la fin, vous pourrez construire le fichier resultat ainsi\n",
    "\n",
    "def create_result_file(newdata):\n",
    "    ''' Exemple de méthode permettant de générer le fichier de resultats demandés. '''\n",
    "    resultat  = [position_predict(d[\"black_stones\"], d[\"white_stones\"]) for d in newdata]\n",
    "    with open(\"my_predictions.txt\", \"w\") as f:\n",
    "         for p in resultat:\n",
    "            f.write(str(p)+\"\\n\")\n",
    "\n"
   ]
  },
  {
   "cell_type": "code",
   "execution_count": 5,
   "metadata": {
    "colab": {
     "base_uri": "https://localhost:8080/",
     "height": 944
    },
    "id": "sIGMJhBUN1Wq",
    "outputId": "5417c7ef-dbca-4891-ed17-e3d2c6d74968"
   },
   "outputs": [],
   "source": [
    "# %matplotlib inline\n",
    "# import matplotlib.pyplot as plt\n",
    "\n",
    "# plt.title(\"Relationship between the depth of the board and the chance for black to win\")\n",
    "# plt.plot([sample[\"black_wins\"] for sample in data],[sample[\"depth\"] for sample in data], '.')\n",
    "# plt.xlabel(\"black wins (percentage)\")\n",
    "# plt.ylabel(\"depth of the game\")\n",
    "\n",
    "\n",
    "# # Cumulative Distribution function of the chance of black to win\n",
    "# cdf_wins = sorted([sample[\"black_wins\"] for sample in data])\n",
    "# plt.figure()\n",
    "# plt.plot([x/len(cdf_wins) for x in range(len(cdf_wins))], cdf_wins)\n",
    "# plt.grid()\n",
    "# plt.title(\"Cumulative Distribution function of the chance of black to win\")\n",
    "# plt.xlabel(\"% of the samples with a chance of black to win below the y value\")\n",
    "# plt.ylabel(\"Chance of black to win\")\n",
    "# print(\"The CDF curve shows that black has more chances to win, globally\")"
   ]
  },
  {
   "cell_type": "markdown",
   "metadata": {
    "id": "uJn7gQooN1Wq"
   },
   "source": [
    "# First steps: transform all the data into numpy arrays to feed your neural network\n",
    "\n",
    "Advices:\n",
    "- do not use only a 9x9 matrix as input. Use at least two planes to encode the board. One plane for black and one plane for white (typically with a 1 if there is a black stone for the first plane and with a 1 if there is a white stone for the second plane). The dimension of an input should be at least `[2,9,9]`. In Torch, the Conv2d method needs inputs as `[NBatch, Channels, H, W]`.\n",
    "- consider to enrich your dataset with all symmetries and rotations. You should be able to multiply the number of samples to consider: any rotation of the board should have the same score, right?. You can use `np.rot90` to rotate your boards be beware of the dimensions (the channel is not the last dimension), so you may want to use `np.moveaxis()` to force the channels to be the last dimension, then call it again to make it the second one.\n",
    "- what should happen on the score if you switch the colors? To know which player has to play next, you can check, for a sample, the parity of the length of the list `data[i][\"list_of_moves\"]` (an odd length list would mean that white is the next player. An even length list means that black has to play).\n",
    "- work on enlarging and preparing your data only once. Once all you input data is setup as a big Numpy matrix, you may want to save it for speeding up everything. You can use, for instance `numpy.rot90()` and `numpy.flipud()` to generate all the symmetries\n",
    "\n"
   ]
  },
  {
   "cell_type": "code",
   "execution_count": 6,
   "metadata": {
    "id": "tdT6ucKcN1Wr"
   },
   "outputs": [
    {
     "name": "stdout",
     "output_type": "stream",
     "text": [
      "[[[0. 0. 0. 0. 0. 0. 0. 0.]\n",
      "  [0. 0. 0. 0. 0. 0. 0. 0.]\n",
      "  [0. 1. 1. 0. 0. 0. 0. 0.]\n",
      "  [0. 0. 0. 0. 1. 1. 1. 0.]\n",
      "  [0. 0. 1. 0. 1. 0. 0. 0.]\n",
      "  [0. 0. 0. 1. 0. 1. 0. 1.]\n",
      "  [0. 0. 0. 0. 0. 1. 1. 0.]\n",
      "  [0. 0. 0. 0. 0. 0. 0. 0.]]\n",
      "\n",
      " [[0. 0. 0. 0. 0. 0. 0. 0.]\n",
      "  [1. 1. 1. 1. 0. 0. 0. 0.]\n",
      "  [0. 0. 0. 0. 1. 1. 1. 0.]\n",
      "  [0. 0. 0. 0. 0. 0. 0. 1.]\n",
      "  [0. 0. 0. 0. 0. 1. 1. 0.]\n",
      "  [0. 0. 0. 0. 0. 0. 1. 0.]\n",
      "  [0. 0. 0. 0. 0. 0. 0. 0.]\n",
      "  [0. 0. 0. 0. 0. 0. 0. 0.]]]\n"
     ]
    }
   ],
   "source": [
    "import numpy as np\n",
    "\n",
    "# Convert to tensor that the ML will take as input\n",
    "def coord_to_board(black_coord, white_coord):\n",
    "    board = np.zeros((2,8,8), dtype=np.double)\n",
    "    for black in black_coord:\n",
    "        board[0][(black[0],black[1])] = 1\n",
    "    for white in white_coord:\n",
    "        board[1][(white[0], white[1])] = 1\n",
    "    return np.array(board)\n",
    "\n",
    "print(coord_to_board(data[0][\"black_coord\"], data[0][\"white_coord\"]))\n",
    "\n",
    "\n"
   ]
  },
  {
   "cell_type": "markdown",
   "metadata": {
    "id": "KbzFMh-UN1Wr"
   },
   "source": [
    "# Second steps: build your neural network and train it\n",
    "\n",
    "Don't forget to check overfitting, ...\n",
    "\n",
    "*advices* :\n",
    "- you may need to use some of the `torch.nn` layers: `Linear`, `Conv2d`, `ReLU`, `LeakyReLU`, `BatchNorm2d`, `Flatten`, `Dropout`... But you can of course first build a very simple one (and just pick some of them)...\n",
    "- if you use convolution layers, be sure **not to downsize your board**. Applying a filter should keep the original size of the board (9x9), otherwise you would somehow forget the stones on the borders\n",
    "- you will use like 33% of your input sample for validation. However, the final goal is to score new data that will be given in addition to the actual data. So, you should use the 33% splitting rule to set up your network architecture and, once you fixed it, you should train your final model on the whole set of data, crossing your fingers that it will generalize well.\n",
    "- Warning: if you run a few epoch, and run it again for some more epochs, it will not reset the weights and the biases of your neural network. It's good news because you can add more and more epochs to your model, but be careful about the training/test sets (do split your sets before you initialize your model). Or you will be breaking your validation/training partition!\n"
   ]
  },
  {
   "cell_type": "code",
   "execution_count": 18,
   "metadata": {
    "id": "IQ1siAgaN1Ws"
   },
   "outputs": [
    {
     "name": "stdout",
     "output_type": "stream",
     "text": [
      "white: 2680 black: 2320\n",
      "white: 2680 black: 2680\n",
      "104\n",
      "{'loss': 0.632217210964723} {'loss': 0.5875671726284605, 'sum_abs_diff': 26.57}\n",
      "{'loss': 0.5364798421570749} {'loss': 0.4763052805987271, 'sum_abs_diff': 18.86}\n",
      "{'loss': 0.4752524134607026} {'loss': 0.4471293403163101, 'sum_abs_diff': 16.96}\n",
      "{'loss': 0.44508870262088196} {'loss': 0.42659319920973343, 'sum_abs_diff': 15.18}\n",
      "{'loss': 0.41612194429744376} {'loss': 0.3888491490392974, 'sum_abs_diff': 12.15}\n",
      "{'loss': 0.39016324375614975} {'loss': 0.37268559687065356, 'sum_abs_diff': 11.33}\n",
      "{'loss': 0.3697877605756124} {'loss': 0.3440520078485662, 'sum_abs_diff': 8.27}\n",
      "{'loss': 0.34276684750210157} {'loss': 0.3287086108236602, 'sum_abs_diff': 7.26}\n",
      "{'loss': 0.3358513442675273} {'loss': 0.32332904505007193, 'sum_abs_diff': 6.3}\n",
      "{'loss': 0.33290091713269554} {'loss': 0.31701536532604335, 'sum_abs_diff': 5.84}\n",
      "{'loss': 0.3185119980754274} {'loss': 0.31018482540593, 'sum_abs_diff': 5.1}\n",
      "{'loss': 0.31079634884993235} {'loss': 0.3032868894663724, 'sum_abs_diff': 4.42}\n",
      "{'loss': 0.3039783149415796} {'loss': 0.2993508390946822, 'sum_abs_diff': 3.92}\n",
      "{'loss': 0.2988379659074726} {'loss': 0.29473722848025236, 'sum_abs_diff': 3.15}\n",
      "{'loss': 0.29539514248118254} {'loss': 0.29192749110135163, 'sum_abs_diff': 2.74}\n",
      "{'loss': 0.2916557162097006} {'loss': 0.2903194163062356, 'sum_abs_diff': 2.49}\n",
      "{'loss': 0.29043897837400434} {'loss': 0.2900018572807312, 'sum_abs_diff': 2.47}\n",
      "{'loss': 0.2896157490123402} {'loss': 0.2889432777780475, 'sum_abs_diff': 2.06}\n",
      "{'loss': 0.28937231609315583} {'loss': 0.28857693325389516, 'sum_abs_diff': 1.98}\n",
      "{'loss': 0.2890843801426165} {'loss': 0.2881505924282652, 'sum_abs_diff': 1.91}\n",
      "{'loss': 0.2884921702471646} {'loss': 0.2878747144612399, 'sum_abs_diff': 1.95}\n",
      "{'loss': 0.28825333523027824} {'loss': 0.2878503760424527, 'sum_abs_diff': 1.96}\n",
      "{'loss': 0.2882618560032411} {'loss': 0.28765908573613025, 'sum_abs_diff': 1.89}\n",
      "{'loss': 0.2882867030302684} {'loss': 0.2878870927926266, 'sum_abs_diff': 1.96}\n",
      "{'loss': 0.290916515083024} {'loss': 0.28942145651037043, 'sum_abs_diff': 2.24}\n",
      "{'loss': 0.291866576165864} {'loss': 0.29170731833486846, 'sum_abs_diff': 2.68}\n",
      "{'loss': 0.2953347374814929} {'loss': 0.2996711605967897, 'sum_abs_diff': 3.87}\n",
      "{'loss': 0.3093749371441928} {'loss': 0.3352394470301541, 'sum_abs_diff': 7.57}\n",
      "{'loss': 0.38768090802611727} {'loss': 0.36077044501449124, 'sum_abs_diff': 9.58}\n",
      "{'loss': 0.37161999680779195} {'loss': 0.35371818860371906, 'sum_abs_diff': 8.97}\n",
      "{'loss': 0.3491900360945499} {'loss': 0.32787206953222103, 'sum_abs_diff': 6.76}\n",
      "{'loss': 0.3281154350620328} {'loss': 0.3175853138981444, 'sum_abs_diff': 6.0}\n",
      "{'loss': 0.31665275024645256} {'loss': 0.30343147509025803, 'sum_abs_diff': 4.41}\n",
      "{'loss': 0.3044882656588699} {'loss': 0.30034824429136336, 'sum_abs_diff': 4.12}\n",
      "{'loss': 0.2995178505146142} {'loss': 0.2934347591978131, 'sum_abs_diff': 3.0}\n",
      "{'loss': 0.2944717770092415} {'loss': 0.29090217171293314, 'sum_abs_diff': 2.56}\n",
      "{'loss': 0.29145508037132184} {'loss': 0.2891138742186806, 'sum_abs_diff': 2.22}\n",
      "{'loss': 0.289484079155055} {'loss': 0.28821292241414387, 'sum_abs_diff': 2.07}\n",
      "{'loss': 0.2885481503876773} {'loss': 0.28759314609296394, 'sum_abs_diff': 1.9}\n",
      "{'loss': 0.2876094134287401} {'loss': 0.28675022168592973, 'sum_abs_diff': 1.62}\n",
      "{'loss': 0.286714709816557} {'loss': 0.2859733283880985, 'sum_abs_diff': 1.37}\n",
      "{'loss': 0.28742587873429964} {'loss': 0.2862272204774799, 'sum_abs_diff': 1.52}\n",
      "{'loss': 0.2866130967212446} {'loss': 0.28572289741400514, 'sum_abs_diff': 1.33}\n",
      "{'loss': 0.28581553491679107} {'loss': 0.2853718335700758, 'sum_abs_diff': 1.24}\n",
      "{'loss': 0.2858386781721404} {'loss': 0.2855083062432029, 'sum_abs_diff': 1.27}\n",
      "{'loss': 0.28577298095732023} {'loss': 0.2853079368128921, 'sum_abs_diff': 1.2}\n",
      "{'loss': 0.285876681768533} {'loss': 0.285316608024366, 'sum_abs_diff': 1.21}\n",
      "{'loss': 0.28560238700924495} {'loss': 0.28527066642587834, 'sum_abs_diff': 1.24}\n",
      "{'loss': 0.2853837083686482} {'loss': 0.2849773171453765, 'sum_abs_diff': 1.15}\n",
      "{'loss': 0.2850615664774721} {'loss': 0.28480662591529615, 'sum_abs_diff': 1.06}\n",
      "{'loss': 0.2848558674436627} {'loss': 0.2846298564564098, 'sum_abs_diff': 0.97}\n",
      "{'loss': 0.2849560675476537} {'loss': 0.2848613304080385, 'sum_abs_diff': 1.1}\n",
      "{'loss': 0.2849241807966521} {'loss': 0.2848275109493371, 'sum_abs_diff': 1.14}\n"
     ]
    },
    {
     "ename": "KeyboardInterrupt",
     "evalue": "",
     "output_type": "error",
     "traceback": [
      "\u001b[0;31m---------------------------------------------------------------------------\u001b[0m",
      "\u001b[0;31mKeyboardInterrupt\u001b[0m                         Traceback (most recent call last)",
      "Cell \u001b[0;32mIn [18], line 116\u001b[0m\n\u001b[1;32m    114\u001b[0m optimizer \u001b[38;5;241m=\u001b[39m optim\u001b[38;5;241m.\u001b[39mAdam(model\u001b[38;5;241m.\u001b[39mparameters(), lr\u001b[38;5;241m=\u001b[39m\u001b[38;5;241m0.001\u001b[39m)\n\u001b[1;32m    115\u001b[0m \u001b[38;5;28;01mfor\u001b[39;00m epoch \u001b[38;5;129;01min\u001b[39;00m \u001b[38;5;28mrange\u001b[39m(\u001b[38;5;241m1\u001b[39m, \u001b[38;5;241m100\u001b[39m):\n\u001b[0;32m--> 116\u001b[0m   train_stats \u001b[38;5;241m=\u001b[39m \u001b[43mtrain\u001b[49m\u001b[43m(\u001b[49m\u001b[43mmodel\u001b[49m\u001b[43m,\u001b[49m\u001b[43m \u001b[49m\u001b[43mdevice\u001b[49m\u001b[43m,\u001b[49m\u001b[43m \u001b[49m\u001b[43mtrainloader\u001b[49m\u001b[43m,\u001b[49m\u001b[43m \u001b[49m\u001b[43moptimizer\u001b[49m\u001b[43m,\u001b[49m\u001b[43m \u001b[49m\u001b[43mepoch\u001b[49m\u001b[43m)\u001b[49m\n\u001b[1;32m    117\u001b[0m   test_stats \u001b[38;5;241m=\u001b[39m test(model, device, testloader)\n\u001b[1;32m    118\u001b[0m   \u001b[38;5;28mprint\u001b[39m(train_stats, test_stats)\n",
      "Cell \u001b[0;32mIn [18], line 26\u001b[0m, in \u001b[0;36mtrain\u001b[0;34m(model, device, train_loader, optimizer, epoch)\u001b[0m\n\u001b[1;32m     24\u001b[0m optimizer\u001b[38;5;241m.\u001b[39mzero_grad()\n\u001b[1;32m     25\u001b[0m \u001b[38;5;66;03m# Calcule la sortie des datas à travers le model\u001b[39;00m\n\u001b[0;32m---> 26\u001b[0m output \u001b[38;5;241m=\u001b[39m \u001b[43mmodel\u001b[49m\u001b[43m(\u001b[49m\u001b[43mdata\u001b[49m\u001b[43m)\u001b[49m\n\u001b[1;32m     27\u001b[0m \u001b[38;5;66;03m# Calcule la loss\u001b[39;00m\n\u001b[1;32m     28\u001b[0m loss \u001b[38;5;241m=\u001b[39m F\u001b[38;5;241m.\u001b[39mbinary_cross_entropy(output, target, reduction\u001b[38;5;241m=\u001b[39m\u001b[38;5;124m\"\u001b[39m\u001b[38;5;124mmean\u001b[39m\u001b[38;5;124m\"\u001b[39m)\n",
      "File \u001b[0;32m~/.local/lib/python3.10/site-packages/torch/nn/modules/module.py:1532\u001b[0m, in \u001b[0;36mModule._wrapped_call_impl\u001b[0;34m(self, *args, **kwargs)\u001b[0m\n\u001b[1;32m   1530\u001b[0m     \u001b[38;5;28;01mreturn\u001b[39;00m \u001b[38;5;28mself\u001b[39m\u001b[38;5;241m.\u001b[39m_compiled_call_impl(\u001b[38;5;241m*\u001b[39margs, \u001b[38;5;241m*\u001b[39m\u001b[38;5;241m*\u001b[39mkwargs)  \u001b[38;5;66;03m# type: ignore[misc]\u001b[39;00m\n\u001b[1;32m   1531\u001b[0m \u001b[38;5;28;01melse\u001b[39;00m:\n\u001b[0;32m-> 1532\u001b[0m     \u001b[38;5;28;01mreturn\u001b[39;00m \u001b[38;5;28;43mself\u001b[39;49m\u001b[38;5;241;43m.\u001b[39;49m\u001b[43m_call_impl\u001b[49m\u001b[43m(\u001b[49m\u001b[38;5;241;43m*\u001b[39;49m\u001b[43margs\u001b[49m\u001b[43m,\u001b[49m\u001b[43m \u001b[49m\u001b[38;5;241;43m*\u001b[39;49m\u001b[38;5;241;43m*\u001b[39;49m\u001b[43mkwargs\u001b[49m\u001b[43m)\u001b[49m\n",
      "File \u001b[0;32m~/.local/lib/python3.10/site-packages/torch/nn/modules/module.py:1541\u001b[0m, in \u001b[0;36mModule._call_impl\u001b[0;34m(self, *args, **kwargs)\u001b[0m\n\u001b[1;32m   1536\u001b[0m \u001b[38;5;66;03m# If we don't have any hooks, we want to skip the rest of the logic in\u001b[39;00m\n\u001b[1;32m   1537\u001b[0m \u001b[38;5;66;03m# this function, and just call forward.\u001b[39;00m\n\u001b[1;32m   1538\u001b[0m \u001b[38;5;28;01mif\u001b[39;00m \u001b[38;5;129;01mnot\u001b[39;00m (\u001b[38;5;28mself\u001b[39m\u001b[38;5;241m.\u001b[39m_backward_hooks \u001b[38;5;129;01mor\u001b[39;00m \u001b[38;5;28mself\u001b[39m\u001b[38;5;241m.\u001b[39m_backward_pre_hooks \u001b[38;5;129;01mor\u001b[39;00m \u001b[38;5;28mself\u001b[39m\u001b[38;5;241m.\u001b[39m_forward_hooks \u001b[38;5;129;01mor\u001b[39;00m \u001b[38;5;28mself\u001b[39m\u001b[38;5;241m.\u001b[39m_forward_pre_hooks\n\u001b[1;32m   1539\u001b[0m         \u001b[38;5;129;01mor\u001b[39;00m _global_backward_pre_hooks \u001b[38;5;129;01mor\u001b[39;00m _global_backward_hooks\n\u001b[1;32m   1540\u001b[0m         \u001b[38;5;129;01mor\u001b[39;00m _global_forward_hooks \u001b[38;5;129;01mor\u001b[39;00m _global_forward_pre_hooks):\n\u001b[0;32m-> 1541\u001b[0m     \u001b[38;5;28;01mreturn\u001b[39;00m \u001b[43mforward_call\u001b[49m\u001b[43m(\u001b[49m\u001b[38;5;241;43m*\u001b[39;49m\u001b[43margs\u001b[49m\u001b[43m,\u001b[49m\u001b[43m \u001b[49m\u001b[38;5;241;43m*\u001b[39;49m\u001b[38;5;241;43m*\u001b[39;49m\u001b[43mkwargs\u001b[49m\u001b[43m)\u001b[49m\n\u001b[1;32m   1543\u001b[0m \u001b[38;5;28;01mtry\u001b[39;00m:\n\u001b[1;32m   1544\u001b[0m     result \u001b[38;5;241m=\u001b[39m \u001b[38;5;28;01mNone\u001b[39;00m\n",
      "Cell \u001b[0;32mIn [18], line 72\u001b[0m, in \u001b[0;36mGoFindWin.forward\u001b[0;34m(self, x)\u001b[0m\n\u001b[1;32m     71\u001b[0m \u001b[38;5;28;01mdef\u001b[39;00m \u001b[38;5;21mforward\u001b[39m(\u001b[38;5;28mself\u001b[39m, x):\n\u001b[0;32m---> 72\u001b[0m   x \u001b[38;5;241m=\u001b[39m \u001b[38;5;28;43mself\u001b[39;49m\u001b[38;5;241;43m.\u001b[39;49m\u001b[43mconv1\u001b[49m\u001b[43m(\u001b[49m\u001b[43mx\u001b[49m\u001b[43m)\u001b[49m\n\u001b[1;32m     73\u001b[0m   x \u001b[38;5;241m=\u001b[39m F\u001b[38;5;241m.\u001b[39mtanh(x)\n\u001b[1;32m     74\u001b[0m   x \u001b[38;5;241m=\u001b[39m \u001b[38;5;28mself\u001b[39m\u001b[38;5;241m.\u001b[39mconv2(x)\n",
      "File \u001b[0;32m~/.local/lib/python3.10/site-packages/torch/nn/modules/module.py:1532\u001b[0m, in \u001b[0;36mModule._wrapped_call_impl\u001b[0;34m(self, *args, **kwargs)\u001b[0m\n\u001b[1;32m   1530\u001b[0m     \u001b[38;5;28;01mreturn\u001b[39;00m \u001b[38;5;28mself\u001b[39m\u001b[38;5;241m.\u001b[39m_compiled_call_impl(\u001b[38;5;241m*\u001b[39margs, \u001b[38;5;241m*\u001b[39m\u001b[38;5;241m*\u001b[39mkwargs)  \u001b[38;5;66;03m# type: ignore[misc]\u001b[39;00m\n\u001b[1;32m   1531\u001b[0m \u001b[38;5;28;01melse\u001b[39;00m:\n\u001b[0;32m-> 1532\u001b[0m     \u001b[38;5;28;01mreturn\u001b[39;00m \u001b[38;5;28;43mself\u001b[39;49m\u001b[38;5;241;43m.\u001b[39;49m\u001b[43m_call_impl\u001b[49m\u001b[43m(\u001b[49m\u001b[38;5;241;43m*\u001b[39;49m\u001b[43margs\u001b[49m\u001b[43m,\u001b[49m\u001b[43m \u001b[49m\u001b[38;5;241;43m*\u001b[39;49m\u001b[38;5;241;43m*\u001b[39;49m\u001b[43mkwargs\u001b[49m\u001b[43m)\u001b[49m\n",
      "File \u001b[0;32m~/.local/lib/python3.10/site-packages/torch/nn/modules/module.py:1541\u001b[0m, in \u001b[0;36mModule._call_impl\u001b[0;34m(self, *args, **kwargs)\u001b[0m\n\u001b[1;32m   1536\u001b[0m \u001b[38;5;66;03m# If we don't have any hooks, we want to skip the rest of the logic in\u001b[39;00m\n\u001b[1;32m   1537\u001b[0m \u001b[38;5;66;03m# this function, and just call forward.\u001b[39;00m\n\u001b[1;32m   1538\u001b[0m \u001b[38;5;28;01mif\u001b[39;00m \u001b[38;5;129;01mnot\u001b[39;00m (\u001b[38;5;28mself\u001b[39m\u001b[38;5;241m.\u001b[39m_backward_hooks \u001b[38;5;129;01mor\u001b[39;00m \u001b[38;5;28mself\u001b[39m\u001b[38;5;241m.\u001b[39m_backward_pre_hooks \u001b[38;5;129;01mor\u001b[39;00m \u001b[38;5;28mself\u001b[39m\u001b[38;5;241m.\u001b[39m_forward_hooks \u001b[38;5;129;01mor\u001b[39;00m \u001b[38;5;28mself\u001b[39m\u001b[38;5;241m.\u001b[39m_forward_pre_hooks\n\u001b[1;32m   1539\u001b[0m         \u001b[38;5;129;01mor\u001b[39;00m _global_backward_pre_hooks \u001b[38;5;129;01mor\u001b[39;00m _global_backward_hooks\n\u001b[1;32m   1540\u001b[0m         \u001b[38;5;129;01mor\u001b[39;00m _global_forward_hooks \u001b[38;5;129;01mor\u001b[39;00m _global_forward_pre_hooks):\n\u001b[0;32m-> 1541\u001b[0m     \u001b[38;5;28;01mreturn\u001b[39;00m \u001b[43mforward_call\u001b[49m\u001b[43m(\u001b[49m\u001b[38;5;241;43m*\u001b[39;49m\u001b[43margs\u001b[49m\u001b[43m,\u001b[49m\u001b[43m \u001b[49m\u001b[38;5;241;43m*\u001b[39;49m\u001b[38;5;241;43m*\u001b[39;49m\u001b[43mkwargs\u001b[49m\u001b[43m)\u001b[49m\n\u001b[1;32m   1543\u001b[0m \u001b[38;5;28;01mtry\u001b[39;00m:\n\u001b[1;32m   1544\u001b[0m     result \u001b[38;5;241m=\u001b[39m \u001b[38;5;28;01mNone\u001b[39;00m\n",
      "File \u001b[0;32m~/.local/lib/python3.10/site-packages/torch/nn/modules/conv.py:460\u001b[0m, in \u001b[0;36mConv2d.forward\u001b[0;34m(self, input)\u001b[0m\n\u001b[1;32m    459\u001b[0m \u001b[38;5;28;01mdef\u001b[39;00m \u001b[38;5;21mforward\u001b[39m(\u001b[38;5;28mself\u001b[39m, \u001b[38;5;28minput\u001b[39m: Tensor) \u001b[38;5;241m-\u001b[39m\u001b[38;5;241m>\u001b[39m Tensor:\n\u001b[0;32m--> 460\u001b[0m     \u001b[38;5;28;01mreturn\u001b[39;00m \u001b[38;5;28mself\u001b[39m\u001b[38;5;241m.\u001b[39m_conv_forward(\u001b[38;5;28minput\u001b[39m, \u001b[38;5;28mself\u001b[39m\u001b[38;5;241m.\u001b[39mweight, \u001b[38;5;28;43mself\u001b[39;49m\u001b[38;5;241;43m.\u001b[39;49m\u001b[43mbias\u001b[49m)\n",
      "File \u001b[0;32m~/.local/lib/python3.10/site-packages/torch/nn/modules/module.py:1696\u001b[0m, in \u001b[0;36mModule.__getattr__\u001b[0;34m(self, name)\u001b[0m\n\u001b[1;32m   1687\u001b[0m         \u001b[38;5;28mself\u001b[39m\u001b[38;5;241m.\u001b[39m_backward_pre_hooks \u001b[38;5;241m=\u001b[39m OrderedDict()\n\u001b[1;32m   1689\u001b[0m \u001b[38;5;66;03m# On the return type:\u001b[39;00m\n\u001b[1;32m   1690\u001b[0m \u001b[38;5;66;03m# We choose to return `Any` in the `__getattr__` type signature instead of a more strict `Union[Tensor, Module]`.\u001b[39;00m\n\u001b[1;32m   1691\u001b[0m \u001b[38;5;66;03m# This is done for better interop with various type checkers for the end users.\u001b[39;00m\n\u001b[0;32m   (...)\u001b[0m\n\u001b[1;32m   1694\u001b[0m \u001b[38;5;66;03m# See full discussion on the problems with returning `Union` here\u001b[39;00m\n\u001b[1;32m   1695\u001b[0m \u001b[38;5;66;03m# https://github.com/microsoft/pyright/issues/4213\u001b[39;00m\n\u001b[0;32m-> 1696\u001b[0m \u001b[38;5;28;01mdef\u001b[39;00m \u001b[38;5;21m__getattr__\u001b[39m(\u001b[38;5;28mself\u001b[39m, name: \u001b[38;5;28mstr\u001b[39m) \u001b[38;5;241m-\u001b[39m\u001b[38;5;241m>\u001b[39m Any:\n\u001b[1;32m   1697\u001b[0m     \u001b[38;5;28;01mif\u001b[39;00m \u001b[38;5;124m'\u001b[39m\u001b[38;5;124m_parameters\u001b[39m\u001b[38;5;124m'\u001b[39m \u001b[38;5;129;01min\u001b[39;00m \u001b[38;5;28mself\u001b[39m\u001b[38;5;241m.\u001b[39m\u001b[38;5;18m__dict__\u001b[39m:\n\u001b[1;32m   1698\u001b[0m         _parameters \u001b[38;5;241m=\u001b[39m \u001b[38;5;28mself\u001b[39m\u001b[38;5;241m.\u001b[39m\u001b[38;5;18m__dict__\u001b[39m[\u001b[38;5;124m'\u001b[39m\u001b[38;5;124m_parameters\u001b[39m\u001b[38;5;124m'\u001b[39m]\n",
      "\u001b[0;31mKeyboardInterrupt\u001b[0m: "
     ]
    }
   ],
   "source": [
    "import torch\n",
    "import torch.nn.functional as F\n",
    "from torch.nn import Sequential, Conv2d, Tanh, ReLU, Dropout, Linear, MaxPool2d\n",
    "import torch.optim as optim\n",
    "import torch.nn as nn\n",
    "\n",
    "# Permet de lancer le code sur CPU ou GPU (ici RTX3060Ti)\n",
    "if torch.cuda.is_available():\n",
    "  device = torch.device('cuda')\n",
    "elif torch.backends.mps.is_available():\n",
    "  device = torch.device('mps')\n",
    "else:\n",
    "  device = torch.device('cpu')\n",
    "\n",
    "def train(model, device, train_loader,  optimizer, epoch):\n",
    "    model.train()\n",
    "    total_loss = 0\n",
    "    for batch_idx, (data, target) in enumerate(train_loader):\n",
    "        \n",
    "        data, target = data.to(device).float(), target.to(device).float()\n",
    "        # Reshape la target\n",
    "        target = target.view(-1, 1)\n",
    "        # Supprime les valeurs utilisée pour la descente de gradient\n",
    "        optimizer.zero_grad()\n",
    "        # Calcule la sortie des datas à travers le model\n",
    "        output = model(data)\n",
    "        # Calcule la loss\n",
    "        loss = F.binary_cross_entropy(output, target, reduction=\"mean\")\n",
    "        # moyenne de la loss sur ce batch\n",
    "        total_loss += loss.item() * len(data)\n",
    "        # Rétropropagation\n",
    "        loss.backward()\n",
    "\n",
    "        optimizer.step()\n",
    "    total_loss /= len(train_loader.dataset)\n",
    "    return {\"loss\": total_loss}\n",
    "\n",
    "def test(model, device, test_loader):\n",
    "    model.eval()\n",
    "    total_loss = 0\n",
    "    sum_abs_diff = 0\n",
    "    with torch.no_grad():\n",
    "        for batch_idx, (data, target) in enumerate(test_loader):\n",
    "            data, target = data.to(device).float(), target.to(device).float()\n",
    "            target = target.view(-1, 1)\n",
    "            output = model(data)\n",
    "            loss = F.binary_cross_entropy(output, target, reduction=\"sum\")\n",
    "            total_loss += loss.item()\n",
    "            predictions = torch.round(output * 100) / 100\n",
    "            sum_abs_diff += (predictions.sub(target.view_as(predictions))).abs().sum().item()\n",
    "    total_loss /= len(test_loader.dataset)\n",
    "    return {\"loss\": total_loss, \"sum_abs_diff\": int(10000*sum_abs_diff/len(test_loader.dataset))/100}\n",
    "\n",
    "\n",
    "\n",
    "class GoFindWin(nn.Module):\n",
    "  def __init__(self):\n",
    "    super(GoFindWin, self).__init__()\n",
    "    self.flatten = nn.Flatten(start_dim=1) # Do not flatten the batch dimension\n",
    "\n",
    "    self.conv1 = Conv2d(2, 32, 3, padding=\"same\")\n",
    "    self.conv2 = Conv2d(32, 64, 3, padding=\"same\")\n",
    "    # self.sub1 = MaxPool2d(2)\n",
    "    self.flatten = nn.Flatten(start_dim=1)\n",
    "\n",
    "    self.dense1 = nn.Linear(64*8*8, 128)\n",
    "    self.dense2 = nn.Linear(128, 64)\n",
    "    self.dense3 = nn.Linear(64, 1)\n",
    "    \n",
    "\n",
    "  def forward(self, x):\n",
    "    x = self.conv1(x)\n",
    "    x = F.tanh(x)\n",
    "    x = self.conv2(x)\n",
    "    x = F.tanh(x)\n",
    "    # x = self.sub1(x)\n",
    "    x = self.flatten(x)\n",
    "    x = self.dense1(x)\n",
    "    x = F.tanh(x)\n",
    "    x = self.dense2(x)\n",
    "    x = F.tanh(x)\n",
    "    x = self.dense3(x)\n",
    "    out = F.sigmoid(x) # In torch, we can either use log_softmax + nll_loss or the CrossEntropy (without the last layer of softmax)\n",
    "    return out\n",
    "\n",
    "\n",
    "def format_data(datas):\n",
    "    datas_length = len(datas)\n",
    "    X = []\n",
    "    Y = np.zeros(datas_length, dtype=np.double)\n",
    "    for i in range(datas_length):\n",
    "        X.append(coord_to_board(datas[i][\"black_coord\"], datas[i][\"white_coord\"]))\n",
    "        Y[i] = datas[i][\"black_wins\"]/100\n",
    "    return np.array(X), Y\n",
    "\n",
    "# Charge model enregistré\n",
    "# model = torch.load(\"model.pth\")\n",
    "# Nouveau model\n",
    "model = GoFindWin().to(device).float()\n",
    "\n",
    "# print(model)\n",
    "\n",
    "batch_size = 32\n",
    "\n",
    "train_data, test_data = prepare_data(data[:5000])\n",
    "\n",
    "train_x, train_y = format_data(train_data)\n",
    "test_x, test_y = format_data(train_data)\n",
    "\n",
    "trainloader = torch.utils.data.DataLoader(list(zip(train_x, train_y)), batch_size=batch_size, shuffle=True, num_workers=1)\n",
    "testloader = torch.utils.data.DataLoader(list(zip(test_x, test_y)), batch_size=batch_size, shuffle=False, num_workers=1)\n",
    "print(len(testloader))\n",
    "\n",
    "optimizer = optim.Adam(model.parameters(), lr=0.001)\n",
    "for epoch in range(1, 100):\n",
    "  train_stats = train(model, device, trainloader, optimizer, epoch)\n",
    "  test_stats = test(model, device, testloader)\n",
    "  print(train_stats, test_stats)\n",
    "\n",
    "# Sauvegarde le model\n",
    "torch.save(model, \"model.pth\")\n"
   ]
  },
  {
   "cell_type": "markdown",
   "metadata": {
    "id": "bVnqHnBqN1Ws"
   },
   "source": [
    "# Last step\n",
    "\n",
    "Prepare your model to predict the set of new data to predict, you will have only 6 hours to push your predictions.\n",
    "\n",
    "(may be you would like to express, when guessing the percentage of wins for blacks, that it should reflect the fact that this score should be the same for all the symmetries you considered)..."
   ]
  },
  {
   "cell_type": "code",
   "execution_count": null,
   "metadata": {
    "id": "39RJHPbmN1Ws"
   },
   "outputs": [],
   "source": []
  }
 ],
 "metadata": {
  "colab": {
   "provenance": []
  },
  "kernelspec": {
   "display_name": "Python 3 (ipykernel)",
   "language": "python",
   "name": "python3"
  },
  "language_info": {
   "codemirror_mode": {
    "name": "ipython",
    "version": 3
   },
   "file_extension": ".py",
   "mimetype": "text/x-python",
   "name": "python",
   "nbconvert_exporter": "python",
   "pygments_lexer": "ipython3",
   "version": "3.10.12"
  }
 },
 "nbformat": 4,
 "nbformat_minor": 1
}
