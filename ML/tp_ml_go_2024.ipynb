{
 "cells": [
  {
   "cell_type": "markdown",
   "metadata": {
    "id": "BzTfCbHzN1Wj"
   },
   "source": [
    "# Apprenez une heuristique pour le Go\n",
    "\n",
    "Dans ce **TP noté**, vous devrez déployer des methodes d'apprentissage automatique permettant d'évaluer la qualité de plateaux de GO.\n",
    "\n",
    "Pour cela, vous disposerez de 21854 exemples de plateau de Go, tous générés par `gnugo` après quelques coups contre lui même avec un niveau de difficulté de 0. Par chaque plateau, nous avons lancé 100 matchs de gnugo contre lui même, toujours avec un niveau 0, et compté le nombre de victoires de noir et de blanc depuis ce plateau.\n",
    "\n",
    "A noter, chaque \"rollout\" (un rollout et un déroulement possible du match depuis le plateau de référence) correspond à des mouvements choisis aléatoirement parmis les 10 meilleurs mouvements possibles, en biasant le choix aléatoire par la qualité prédite du mouvement par gnugo (les meilleurs mouvements ont une plus forte probabilité d'être tirés).\n",
    "\n",
    "Les données dont vous disposez sont brutes. Ce sera à vous de proposer un format adéquat pour utiliser ces données en entrée de votre réseau neuronal.\n",
    "\n",
    "\n",
    "## Comment sera évalué votre modèle ?\n",
    "\n",
    "Nous vous fournirons 6h avant la date de rendu un nouveau fichier contenant 1000 nouveaux exemples, qui ne contiendront pas les champs `black_wins`, `white_wins`, `black_points` et `white_points`. Vous devrez laisser, dans votre dépot de projet (votre dépot GIT sous un sous-répertoire ML) un fichier texte nommé `my_predictions.txt` ayant une prédiction par ligne (un simple flottant) qui donnera, dans le même ordre de la liste des exemples les scores que vous prédisez pour chacune des entrées du fichier que nous vous aurons donné. ** Les scores seront donnés sous forme d'un flottant, entre 0 et 1, donnant la probabilité de victoire de noir sur le plateau considéré **. Il faudra laisser, dans votre feuille notebook (voir tout en dessous) la cellule Python qui aura créé ce fichier, pour que l'on puisse éventuellement refaire vos prédictions.\n",
    "\n",
    "Bien entendu, vous nous rendrez également votre feuille jupyter **sous deux formats**, à la fois le fichier `.ipynb` et le fichier `.html` nous permettant de lire ce que vous avez fait, sans forcément relancer la feuille. Nous prendrons en compte les résultats obtenus sur les prédictions mais aussi le contenu de vos notebooks jupyter.\n",
    "\n",
    "### Comment sera noté ce TP ?\n",
    "\n",
    "**Il s'agit d'un TP noté (et non pas d'un projet), donc il ne faudra pas y passer trop de temps**. Nous attendons des prédictions correctes mais surtout des choix justifiés dans la feuille. Votre feuille notebook sera le plus important pour la notation (n'hésitez pas à mettre des cellules de texte pour expliquer pourquoi vous avez été amenés à faire certains choix). Ainsi, il serait bien d'avoir, par exemple, les données (graphiques ou autre) qui permettent de comprendre comment vous avez évité l'overfitting.\n",
    "\n",
    "Le fichier de vos prédiction sera évalué en se basant sur la qualité de vos prédictions. Nous mesurerons par exemple (juste pour vous donner une idée) le nombre d'exemples dont votre prédiction donnera la bonne valeur à 5%, 10%, 20%, 35%, 50% pour estimer sa qualité.\n",
    "\n",
    "\n",
    "## Mise en route !\n",
    "\n",
    "Voyons  comment lire les données\n"
   ]
  },
  {
   "cell_type": "code",
   "execution_count": 2,
   "metadata": {
    "colab": {
     "base_uri": "https://localhost:8080/"
    },
    "id": "IQyK1qLZN1Wl",
    "outputId": "5924f94d-5257-4361-8e84-e1f7dc050685"
   },
   "outputs": [
    {
     "name": "stdout",
     "output_type": "stream",
     "text": [
      "We have 664848 examples\n",
      "white: 355600 black: 309248\n",
      "white: 355600 black: 355600\n"
     ]
    }
   ],
   "source": [
    "# Import du fichier d'exemples\n",
    "import numpy as np\n",
    "\n",
    "def get_processed_data_go():\n",
    "\timport json\n",
    "\twith open('database-8x8.json', 'r') as f:\n",
    "\t\treturn json.load(f)\n",
    "\n",
    "data = get_processed_data_go()\n",
    "print(\"We have\", len(data),\"examples\")\n",
    "\n",
    "def prepare_data(data):\n",
    "\tsizetraining = int(len(data) * 0.33)\n",
    "\tblack = []\n",
    "\twhite = []\n",
    "\tfor games in data:\n",
    "\t\tif games[\"black_wins\"]/100 >= 0.5:\n",
    "\t\t\tblack.append(games)\n",
    "\t\telse:\n",
    "\t\t\twhite.append(games)\n",
    "\tnbblack = len(black)\n",
    "\tnbwhite = len(white)\n",
    "\n",
    "\tprint(\"white:\", nbwhite, \"black:\", nbblack)\n",
    "\n",
    "\twhile nbblack > nbwhite:\n",
    "\t\tshuffledwhite = white.copy()\n",
    "\t\twhite = np.concatenate((white, shuffledwhite[:nbblack - nbwhite]))\n",
    "\t\tnbwhite = len(white)\n",
    "\t\tnp.random.shuffle(white)\n",
    "\n",
    "\twhile nbwhite > nbblack:\n",
    "\t\tshuffledblack = black.copy()\n",
    "\t\tblack = np.concatenate((black, shuffledblack[:nbwhite - nbblack]))\n",
    "\t\tnbblack = len(black)\n",
    "\t\tnp.random.shuffle(black)\n",
    "\n",
    "\tprint(\"white:\", nbwhite, \"black:\", nbblack)\n",
    "\n",
    "\ttrain_white = white[:sizetraining]\n",
    "\tval_white = white[sizetraining:]\n",
    "\ttrain_black = black[:sizetraining]\n",
    "\tval_black = black[sizetraining:]\n",
    "\ttrain_data = np.concatenate((train_black, train_white))\n",
    "\tnp.random.shuffle(train_data)\n",
    "\tval_data = np.concatenate((val_black, val_white))\n",
    "\tnp.random.shuffle(val_data)\n",
    "\treturn train_data, val_data\n",
    "\n",
    "size = 30000\n",
    "new_datas = prepare_data(data)"
   ]
  },
  {
   "cell_type": "markdown",
   "metadata": {
    "id": "WaSjA3uPN1Wn"
   },
   "source": [
    "## Compréhension des données de chaque entrée\n",
    "\n",
    "Voici une description de chaque exemple"
   ]
  },
  {
   "cell_type": "code",
   "execution_count": 3,
   "metadata": {
    "colab": {
     "base_uri": "https://localhost:8080/"
    },
    "id": "oCKzso-aN1Wn",
    "outputId": "96be7d06-ba1a-4c17-9ae2-2970695125f5"
   },
   "outputs": [],
   "source": [
    "def summary_of_example(data, sample_nb):\n",
    "    ''' Gives you some insights about a sample number'''\n",
    "    sample = data[sample_nb]\n",
    "    print(\"Sample\", sample_nb)\n",
    "    print()\n",
    "    print(\"Données brutes en format JSON:\", sample)\n",
    "    print()\n",
    "    print(\"The sample was obtained after\", sample[\"depth\"], \"moves\")\n",
    "    print(\"The successive moves were\", sample[\"list_of_moves\"])\n",
    "    print(\"After these moves and all the captures, there was black stones at the following position\", sample[\"black_stones\"])\n",
    "    print(\"After these moves and all the captures, there was white stones at the following position\", sample[\"white_stones\"])\n",
    "    print(\"Number of rollouts (gnugo games played against itself from this position):\", sample[\"rollouts\"])\n",
    "    print(\"Over these\", sample[\"rollouts\"], \"games, black won\", sample[\"black_wins\"], \"times with\", sample[\"black_points\"], \"total points over all this winning games\")\n",
    "    print(\"Over these\", sample[\"rollouts\"], \"games, white won\", sample[\"white_wins\"], \"times with\", sample[\"white_points\"], \"total points over all this winning games\")\n",
    "\n",
    "# summary_of_example(data,10)"
   ]
  },
  {
   "cell_type": "markdown",
   "metadata": {
    "id": "e-AdNZZEN1Wo"
   },
   "source": [
    "## Données en entrée et en sortie de votre modèle final\n",
    "\n",
    "Même si en interne, votre modèle va manipuler des tenseurs en numpy, vous devrez construire une boite noire qui prendra en entrée les données dans le style du JSON ci-dessous. Typiquement, vous aurez le même genre de fichier avec seulement les champs `black_stones`, `white_stones`, `depth` et `list_of_moves` de renseignées. Vous devrez utiliser ces champs, dont notemment les coordonnées des pierres noires et blanches et donner le pourcentage de chance pour noir de gagner depuis cette position.\n",
    "\n",
    "Ainsi, pour l'exemple `i` :\n",
    "- Vous pourrez prendez en entree `data[i][\"black_stones\"]` et `data[i][\"white_stones\"]` (vous pouvez, si vous le souhaitez, prendre en compte également `list_of_moves` ou tout autre donnée que vous calculerez vous-même (mais qui ne se basera évidemment pas sur les données que vous n'aurez pas lors de l'évaluation).\n",
    "- Vous devrez prédire simplement `data[i][\"black_wins\"]/data[i][\"rollouts\"]` en float (donc une valeur entre 0 et 1).\n",
    "\n",
    "Encore une fois, **attention** : en interne, il faudra absolument construire vos données formattées en matrices numpy pour faire votre entrainement. On vous demande juste ici d'écrire comment vous faites ces transformations, pour comprendre ce que vous avez décidé de mettre en entrée du réseau.\n",
    "\n",
    "Voici par exemple le modèle de la fonction qui pourra être appelée, au final :\n"
   ]
  },
  {
   "cell_type": "code",
   "execution_count": 4,
   "metadata": {
    "colab": {
     "base_uri": "https://localhost:8080/"
    },
    "id": "kxeEQ89HN1Wp",
    "outputId": "9956cdb6-ec15-4085-b917-bf89c169bf3b"
   },
   "outputs": [],
   "source": [
    "def position_predict(black_stones, white_stones):\n",
    "\n",
    "    # ... Votre tambouille interne pour placer les pierres comme il faut dans votre structure de données\n",
    "    # et appeler votre modèle Keras (typiquement avec model.predict())\n",
    "    prediction = None # model.predict(...) # A REMPLIR CORRECTEMENT\n",
    "\n",
    "    return prediction\n",
    "\n",
    "# Par exemple, nous pourrons appeler votre prédiction ainsi\n",
    "\n",
    "# print(\"Prediction this sample:\")\n",
    "# data_index = 1\n",
    "# summary_of_example(data, data_index)\n",
    "# print()\n",
    "# prediction = position_predict(data[data_index][\"black_stones\"], data[data_index][\"white_stones\"])\n",
    "# print(\"You predicted\", prediction, \"and the actual target was\", data[data_index][\"black_wins\"]/data[data_index][\"rollouts\"])\n",
    "\n",
    "# Ainsi, pour le rendu, en admettant que newdata soit la structure de données issue du json contenant les nouvelles données que\n",
    "# l'on vous donnera 24h avant la fin, vous pourrez construire le fichier resultat ainsi\n",
    "\n",
    "def create_result_file(newdata):\n",
    "    ''' Exemple de méthode permettant de générer le fichier de resultats demandés. '''\n",
    "    resultat  = [position_predict(d[\"black_stones\"], d[\"white_stones\"]) for d in newdata]\n",
    "    with open(\"my_predictions.txt\", \"w\") as f:\n",
    "         for p in resultat:\n",
    "            f.write(str(p)+\"\\n\")\n",
    "\n"
   ]
  },
  {
   "cell_type": "code",
   "execution_count": 5,
   "metadata": {
    "colab": {
     "base_uri": "https://localhost:8080/",
     "height": 944
    },
    "id": "sIGMJhBUN1Wq",
    "outputId": "5417c7ef-dbca-4891-ed17-e3d2c6d74968"
   },
   "outputs": [],
   "source": [
    "# %matplotlib inline\n",
    "# import matplotlib.pyplot as plt\n",
    "\n",
    "# plt.title(\"Relationship between the depth of the board and the chance for black to win\")\n",
    "# plt.plot([sample[\"black_wins\"] for sample in data],[sample[\"depth\"] for sample in data], '.')\n",
    "# plt.xlabel(\"black wins (percentage)\")\n",
    "# plt.ylabel(\"depth of the game\")\n",
    "\n",
    "\n",
    "# # Cumulative Distribution function of the chance of black to win\n",
    "# cdf_wins = sorted([sample[\"black_wins\"] for sample in data])\n",
    "# plt.figure()\n",
    "# plt.plot([x/len(cdf_wins) for x in range(len(cdf_wins))], cdf_wins)\n",
    "# plt.grid()\n",
    "# plt.title(\"Cumulative Distribution function of the chance of black to win\")\n",
    "# plt.xlabel(\"% of the samples with a chance of black to win below the y value\")\n",
    "# plt.ylabel(\"Chance of black to win\")\n",
    "# print(\"The CDF curve shows that black has more chances to win, globally\")"
   ]
  },
  {
   "cell_type": "markdown",
   "metadata": {
    "id": "uJn7gQooN1Wq"
   },
   "source": [
    "# First steps: transform all the data into numpy arrays to feed your neural network\n",
    "\n",
    "Advices:\n",
    "- do not use only a 9x9 matrix as input. Use at least two planes to encode the board. One plane for black and one plane for white (typically with a 1 if there is a black stone for the first plane and with a 1 if there is a white stone for the second plane). The dimension of an input should be at least `[2,9,9]`. In Torch, the Conv2d method needs inputs as `[NBatch, Channels, H, W]`.\n",
    "- consider to enrich your dataset with all symmetries and rotations. You should be able to multiply the number of samples to consider: any rotation of the board should have the same score, right?. You can use `np.rot90` to rotate your boards be beware of the dimensions (the channel is not the last dimension), so you may want to use `np.moveaxis()` to force the channels to be the last dimension, then call it again to make it the second one.\n",
    "- what should happen on the score if you switch the colors? To know which player has to play next, you can check, for a sample, the parity of the length of the list `data[i][\"list_of_moves\"]` (an odd length list would mean that white is the next player. An even length list means that black has to play).\n",
    "- work on enlarging and preparing your data only once. Once all you input data is setup as a big Numpy matrix, you may want to save it for speeding up everything. You can use, for instance `numpy.rot90()` and `numpy.flipud()` to generate all the symmetries\n",
    "\n"
   ]
  },
  {
   "cell_type": "code",
   "execution_count": 6,
   "metadata": {
    "id": "tdT6ucKcN1Wr"
   },
   "outputs": [
    {
     "name": "stdout",
     "output_type": "stream",
     "text": [
      "[[[0. 0. 0. 0. 0. 0. 0. 0.]\n",
      "  [0. 0. 0. 0. 0. 0. 0. 0.]\n",
      "  [0. 1. 1. 0. 0. 0. 0. 0.]\n",
      "  [0. 0. 0. 0. 1. 1. 1. 0.]\n",
      "  [0. 0. 1. 0. 1. 0. 0. 0.]\n",
      "  [0. 0. 0. 1. 0. 1. 0. 1.]\n",
      "  [0. 0. 0. 0. 0. 1. 1. 0.]\n",
      "  [0. 0. 0. 0. 0. 0. 0. 0.]]\n",
      "\n",
      " [[0. 0. 0. 0. 0. 0. 0. 0.]\n",
      "  [1. 1. 1. 1. 0. 0. 0. 0.]\n",
      "  [0. 0. 0. 0. 1. 1. 1. 0.]\n",
      "  [0. 0. 0. 0. 0. 0. 0. 1.]\n",
      "  [0. 0. 0. 0. 0. 1. 1. 0.]\n",
      "  [0. 0. 0. 0. 0. 0. 1. 0.]\n",
      "  [0. 0. 0. 0. 0. 0. 0. 0.]\n",
      "  [0. 0. 0. 0. 0. 0. 0. 0.]]]\n"
     ]
    }
   ],
   "source": [
    "import numpy as np\n",
    "\n",
    "# Convert to tensor that the ML will take as input\n",
    "def coord_to_board(black_coord, white_coord):\n",
    "    board = np.zeros((2,8,8), dtype=np.double)\n",
    "    for black in black_coord:\n",
    "        board[0][(black[0],black[1])] = 1\n",
    "    for white in white_coord:\n",
    "        board[1][(white[0], white[1])] = 1\n",
    "    return np.array(board)\n",
    "\n",
    "print(coord_to_board(data[0][\"black_coord\"], data[0][\"white_coord\"]))\n",
    "\n",
    "\n"
   ]
  },
  {
   "cell_type": "markdown",
   "metadata": {
    "id": "KbzFMh-UN1Wr"
   },
   "source": [
    "# Second steps: build your neural network and train it\n",
    "\n",
    "Don't forget to check overfitting, ...\n",
    "\n",
    "*advices* :\n",
    "- you may need to use some of the `torch.nn` layers: `Linear`, `Conv2d`, `ReLU`, `LeakyReLU`, `BatchNorm2d`, `Flatten`, `Dropout`... But you can of course first build a very simple one (and just pick some of them)...\n",
    "- if you use convolution layers, be sure **not to downsize your board**. Applying a filter should keep the original size of the board (9x9), otherwise you would somehow forget the stones on the borders\n",
    "- you will use like 33% of your input sample for validation. However, the final goal is to score new data that will be given in addition to the actual data. So, you should use the 33% splitting rule to set up your network architecture and, once you fixed it, you should train your final model on the whole set of data, crossing your fingers that it will generalize well.\n",
    "- Warning: if you run a few epoch, and run it again for some more epochs, it will not reset the weights and the biases of your neural network. It's good news because you can add more and more epochs to your model, but be careful about the training/test sets (do split your sets before you initialize your model). Or you will be breaking your validation/training partition!\n"
   ]
  },
  {
   "cell_type": "code",
   "execution_count": 14,
   "metadata": {
    "id": "IQ1siAgaN1Ws"
   },
   "outputs": [
    {
     "name": "stdout",
     "output_type": "stream",
     "text": [
      "white: 2680 black: 2320\n",
      "white: 2680 black: 2680\n",
      "104\n",
      "{'loss': 0.7102424136797587} {'loss': 0.6405136391610811, 'correct %': 0.6}\n",
      "{'loss': 0.5945714850859208} {'loss': 0.5626198403763049, 'correct %': 1.45}\n",
      "{'loss': 0.5587499602635702} {'loss': 0.5549753405108596, 'correct %': 1.27}\n",
      "{'loss': 0.5336448714227388} {'loss': 0.5210552489035057, 'correct %': 1.6}\n",
      "{'loss': 0.577996296304645} {'loss': 0.5192382290146568, 'correct %': 1.18}\n",
      "{'loss': 0.5319883160880118} {'loss': 0.54401756958528, 'correct %': 1.45}\n",
      "{'loss': 0.5086878228910041} {'loss': 0.4852496252818541, 'correct %': 1.81}\n",
      "{'loss': 0.4872319519881046} {'loss': 0.45442980589288656, 'correct %': 2.36}\n",
      "{'loss': 0.47436942584586866} {'loss': 0.46578569733735287, 'correct %': 1.96}\n",
      "{'loss': 0.46464465939637384} {'loss': 0.42667534336899265, 'correct %': 3.21}\n",
      "{'loss': 0.44438958688215774} {'loss': 0.4140453815098965, 'correct %': 5.42}\n",
      "{'loss': 0.4393610676129659} {'loss': 0.40372307325854445, 'correct %': 7.6}\n",
      "{'loss': 0.43044053323341136} {'loss': 0.4858876669768131, 'correct %': 8.39}\n",
      "{'loss': 0.42938180417725536} {'loss': 0.415593941970305, 'correct %': 4.84}\n",
      "{'loss': 0.4020503789728338} {'loss': 0.3792583443179275, 'correct %': 10.42}\n",
      "{'loss': 0.39611261248588564} {'loss': 0.39212998523856657, 'correct %': 10.78}\n",
      "{'loss': 0.40060022895986386} {'loss': 0.36400303734071326, 'correct %': 15.78}\n",
      "{'loss': 0.39830581444682495} {'loss': 0.4006761123194839, 'correct %': 13.96}\n",
      "{'loss': 0.3851705351742831} {'loss': 0.382813089724743, 'correct %': 16.6}\n",
      "{'loss': 0.38503876183972213} {'loss': 0.3696894001238274, 'correct %': 13.12}\n",
      "{'loss': 0.3747731756802761} {'loss': 0.34961472021810935, 'correct %': 20.63}\n",
      "{'loss': 0.3636464541698947} {'loss': 0.3601163255265265, 'correct %': 22.84}\n",
      "{'loss': 0.35527649110013787} {'loss': 0.3765740663355047, 'correct %': 21.0}\n",
      "{'loss': 0.37342642466227216} {'loss': 0.3555183346524383, 'correct %': 19.96}\n",
      "{'loss': 0.3577329516049587} {'loss': 0.34021100434389984, 'correct %': 25.3}\n",
      "{'loss': 0.34716866753318093} {'loss': 0.33995843656135327, 'correct %': 24.69}\n",
      "{'loss': 0.33906886880144926} {'loss': 0.33906678237698296, 'correct %': 30.84}\n",
      "{'loss': 0.3607257951209039} {'loss': 0.33816524010716065, 'correct %': 23.18}\n",
      "{'loss': 0.35984827063300395} {'loss': 0.3478167047103246, 'correct %': 25.24}\n",
      "{'loss': 0.3492039865074736} {'loss': 0.3427829144217751, 'correct %': 21.09}\n",
      "{'loss': 0.3570629402882222} {'loss': 0.33759606381257373, 'correct %': 25.09}\n",
      "{'loss': 0.34059775627020633} {'loss': 0.33553107608448374, 'correct %': 21.36}\n",
      "{'loss': 0.3296787044496247} {'loss': 0.3193271441893144, 'correct %': 31.9}\n",
      "{'loss': 0.3206589026884599} {'loss': 0.31987867908044293, 'correct %': 30.66}\n",
      "{'loss': 0.31831181367238365} {'loss': 0.3118816929874998, 'correct %': 34.39}\n",
      "{'loss': 0.316309075608398} {'loss': 0.313041217363242, 'correct %': 32.21}\n",
      "{'loss': 0.3150310099847389} {'loss': 0.3127784184253577, 'correct %': 34.9}\n",
      "{'loss': 0.31548193974928423} {'loss': 0.31444939931233723, 'correct %': 35.33}\n",
      "{'loss': 0.3167497872674104} {'loss': 0.3143409335613251, 'correct %': 33.27}\n",
      "{'loss': 0.3225480397903558} {'loss': 0.36283027520685485, 'correct %': 29.93}\n",
      "{'loss': 0.409916618123199} {'loss': 0.3835313935713335, 'correct %': 13.18}\n",
      "{'loss': 0.39464025128971447} {'loss': 0.40955162366231285, 'correct %': 10.57}\n",
      "{'loss': 0.39764361634398954} {'loss': 0.35882205668723943, 'correct %': 24.12}\n",
      "{'loss': 0.34718240940209594} {'loss': 0.3409484574108413, 'correct %': 23.45}\n",
      "{'loss': 0.342095164530205} {'loss': 0.32582626608285037, 'correct %': 30.09}\n",
      "{'loss': 0.32725213746907134} {'loss': 0.3163350920785557, 'correct %': 33.15}\n",
      "{'loss': 0.31997514343622957} {'loss': 0.31820077058040735, 'correct %': 30.42}\n",
      "{'loss': 0.31681255199692465} {'loss': 0.31093665213295907, 'correct %': 34.78}\n",
      "{'loss': 0.31471019021489405} {'loss': 0.31205838804895225, 'correct %': 35.6}\n",
      "{'loss': 0.3112068443587332} {'loss': 0.30692953219919494, 'correct %': 37.33}\n",
      "{'loss': 0.30998964327754397} {'loss': 0.30743617957288566, 'correct %': 36.81}\n",
      "{'loss': 0.30916236299456973} {'loss': 0.30649944469784246, 'correct %': 34.24}\n",
      "{'loss': 0.3089469321568807} {'loss': 0.303942976250793, 'correct %': 36.66}\n",
      "{'loss': 0.3053712553147114} {'loss': 0.3033289447697726, 'correct %': 37.09}\n",
      "{'loss': 0.3049279588280302} {'loss': 0.30616105486046186, 'correct %': 34.42}\n",
      "{'loss': 0.305377746525531} {'loss': 0.3023927939118761, 'correct %': 39.72}\n",
      "{'loss': 0.30428870911851075} {'loss': 0.30581236963922326, 'correct %': 36.54}\n",
      "{'loss': 0.3058986814094312} {'loss': 0.3047966915730274, 'correct %': 39.87}\n",
      "{'loss': 0.3109920367688844} {'loss': 0.4734948191317645, 'correct %': 31.69}\n",
      "{'loss': 0.4847354527675744} {'loss': 0.44380837053963634, 'correct %': 16.51}\n",
      "{'loss': 0.414733340920824} {'loss': 0.4018000562624498, 'correct %': 13.75}\n",
      "{'loss': 0.37521340039643375} {'loss': 0.5532317618167761, 'correct %': 23.87}\n",
      "{'loss': 0.38987727439764774} {'loss': 0.3572819420063134, 'correct %': 21.96}\n",
      "{'loss': 0.35091039991740025} {'loss': 0.3290608851476149, 'correct %': 28.54}\n",
      "{'loss': 0.327047627658555} {'loss': 0.3206123472885652, 'correct %': 35.27}\n",
      "{'loss': 0.3245887431953893} {'loss': 0.31803489726601225, 'correct %': 32.75}\n",
      "{'loss': 0.3173137577374776} {'loss': 0.3112857004187324, 'correct %': 33.33}\n",
      "{'loss': 0.31653921445210775} {'loss': 0.313346660823533, 'correct %': 35.75}\n",
      "{'loss': 0.3147377813946117} {'loss': 0.3227460435845635, 'correct %': 35.57}\n",
      "{'loss': 0.3213889583674344} {'loss': 0.31440705378850303, 'correct %': 36.03}\n",
      "{'loss': 0.3172633543881503} {'loss': 0.310538686857079, 'correct %': 38.69}\n",
      "{'loss': 0.3099185787186478} {'loss': 0.30896743366212553, 'correct %': 38.81}\n",
      "{'loss': 0.30716577526294825} {'loss': 0.30315592296195754, 'correct %': 40.15}\n",
      "{'loss': 0.30483309037757644} {'loss': 0.30404313920122206, 'correct %': 36.45}\n",
      "{'loss': 0.3038765503962835} {'loss': 0.3024474637255524, 'correct %': 39.45}\n",
      "{'loss': 0.3032060306361227} {'loss': 0.3031632648453568, 'correct %': 40.51}\n",
      "{'loss': 0.4167567257086436} {'loss': 0.5267285135298064, 'correct %': 18.87}\n",
      "{'loss': 0.5007452078479709} {'loss': 0.38472854151870267, 'correct %': 19.66}\n",
      "{'loss': 0.3837871947433009} {'loss': 0.35880958186857626, 'correct %': 26.54}\n",
      "{'loss': 0.35931942000533595} {'loss': 0.3524815188393448, 'correct %': 30.84}\n"
     ]
    },
    {
     "ename": "KeyboardInterrupt",
     "evalue": "",
     "output_type": "error",
     "traceback": [
      "\u001b[0;31m---------------------------------------------------------------------------\u001b[0m",
      "\u001b[0;31mKeyboardInterrupt\u001b[0m                         Traceback (most recent call last)",
      "Cell \u001b[0;32mIn [14], line 107\u001b[0m\n\u001b[1;32m    105\u001b[0m optimizer \u001b[38;5;241m=\u001b[39m optim\u001b[38;5;241m.\u001b[39mAdam(model\u001b[38;5;241m.\u001b[39mparameters(), lr\u001b[38;5;241m=\u001b[39m\u001b[38;5;241m0.02\u001b[39m)\n\u001b[1;32m    106\u001b[0m \u001b[38;5;28;01mfor\u001b[39;00m epoch \u001b[38;5;129;01min\u001b[39;00m \u001b[38;5;28mrange\u001b[39m(\u001b[38;5;241m1\u001b[39m, \u001b[38;5;241m100\u001b[39m):\n\u001b[0;32m--> 107\u001b[0m   train_stats \u001b[38;5;241m=\u001b[39m \u001b[43mtrain\u001b[49m\u001b[43m(\u001b[49m\u001b[43mmodel\u001b[49m\u001b[43m,\u001b[49m\u001b[43m \u001b[49m\u001b[43mdevice\u001b[49m\u001b[43m,\u001b[49m\u001b[43m \u001b[49m\u001b[43mtrainloader\u001b[49m\u001b[43m,\u001b[49m\u001b[43m \u001b[49m\u001b[43moptimizer\u001b[49m\u001b[43m,\u001b[49m\u001b[43m \u001b[49m\u001b[43mepoch\u001b[49m\u001b[43m)\u001b[49m\n\u001b[1;32m    108\u001b[0m   test_stats \u001b[38;5;241m=\u001b[39m test(model, device, testloader)\n\u001b[1;32m    109\u001b[0m   \u001b[38;5;28mprint\u001b[39m(train_stats, test_stats)\n",
      "Cell \u001b[0;32mIn [14], line 17\u001b[0m, in \u001b[0;36mtrain\u001b[0;34m(model, device, train_loader, optimizer, epoch)\u001b[0m\n\u001b[1;32m     15\u001b[0m model\u001b[38;5;241m.\u001b[39mtrain()\n\u001b[1;32m     16\u001b[0m total_loss \u001b[38;5;241m=\u001b[39m \u001b[38;5;241m0\u001b[39m\n\u001b[0;32m---> 17\u001b[0m \u001b[38;5;28;01mfor\u001b[39;00m batch_idx, (data, target) \u001b[38;5;129;01min\u001b[39;00m \u001b[38;5;28menumerate\u001b[39m(train_loader):\n\u001b[1;32m     18\u001b[0m     data, target \u001b[38;5;241m=\u001b[39m data\u001b[38;5;241m.\u001b[39mto(device)\u001b[38;5;241m.\u001b[39mfloat(), target\u001b[38;5;241m.\u001b[39mto(device)\u001b[38;5;241m.\u001b[39mfloat()\n\u001b[1;32m     19\u001b[0m     target \u001b[38;5;241m=\u001b[39m target\u001b[38;5;241m.\u001b[39mview(\u001b[38;5;241m-\u001b[39m\u001b[38;5;241m1\u001b[39m, \u001b[38;5;241m1\u001b[39m)\n",
      "File \u001b[0;32m~/.local/lib/python3.10/site-packages/torch/utils/data/dataloader.py:631\u001b[0m, in \u001b[0;36m_BaseDataLoaderIter.__next__\u001b[0;34m(self)\u001b[0m\n\u001b[1;32m    628\u001b[0m \u001b[38;5;28;01mif\u001b[39;00m \u001b[38;5;28mself\u001b[39m\u001b[38;5;241m.\u001b[39m_sampler_iter \u001b[38;5;129;01mis\u001b[39;00m \u001b[38;5;28;01mNone\u001b[39;00m:\n\u001b[1;32m    629\u001b[0m     \u001b[38;5;66;03m# TODO(https://github.com/pytorch/pytorch/issues/76750)\u001b[39;00m\n\u001b[1;32m    630\u001b[0m     \u001b[38;5;28mself\u001b[39m\u001b[38;5;241m.\u001b[39m_reset()  \u001b[38;5;66;03m# type: ignore[call-arg]\u001b[39;00m\n\u001b[0;32m--> 631\u001b[0m data \u001b[38;5;241m=\u001b[39m \u001b[38;5;28;43mself\u001b[39;49m\u001b[38;5;241;43m.\u001b[39;49m\u001b[43m_next_data\u001b[49m\u001b[43m(\u001b[49m\u001b[43m)\u001b[49m\n\u001b[1;32m    632\u001b[0m \u001b[38;5;28mself\u001b[39m\u001b[38;5;241m.\u001b[39m_num_yielded \u001b[38;5;241m+\u001b[39m\u001b[38;5;241m=\u001b[39m \u001b[38;5;241m1\u001b[39m\n\u001b[1;32m    633\u001b[0m \u001b[38;5;28;01mif\u001b[39;00m \u001b[38;5;28mself\u001b[39m\u001b[38;5;241m.\u001b[39m_dataset_kind \u001b[38;5;241m==\u001b[39m _DatasetKind\u001b[38;5;241m.\u001b[39mIterable \u001b[38;5;129;01mand\u001b[39;00m \\\n\u001b[1;32m    634\u001b[0m         \u001b[38;5;28mself\u001b[39m\u001b[38;5;241m.\u001b[39m_IterableDataset_len_called \u001b[38;5;129;01mis\u001b[39;00m \u001b[38;5;129;01mnot\u001b[39;00m \u001b[38;5;28;01mNone\u001b[39;00m \u001b[38;5;129;01mand\u001b[39;00m \\\n\u001b[1;32m    635\u001b[0m         \u001b[38;5;28mself\u001b[39m\u001b[38;5;241m.\u001b[39m_num_yielded \u001b[38;5;241m>\u001b[39m \u001b[38;5;28mself\u001b[39m\u001b[38;5;241m.\u001b[39m_IterableDataset_len_called:\n",
      "File \u001b[0;32m~/.local/lib/python3.10/site-packages/torch/utils/data/dataloader.py:1329\u001b[0m, in \u001b[0;36m_MultiProcessingDataLoaderIter._next_data\u001b[0;34m(self)\u001b[0m\n\u001b[1;32m   1326\u001b[0m     \u001b[38;5;28;01mreturn\u001b[39;00m \u001b[38;5;28mself\u001b[39m\u001b[38;5;241m.\u001b[39m_process_data(data)\n\u001b[1;32m   1328\u001b[0m \u001b[38;5;28;01massert\u001b[39;00m \u001b[38;5;129;01mnot\u001b[39;00m \u001b[38;5;28mself\u001b[39m\u001b[38;5;241m.\u001b[39m_shutdown \u001b[38;5;129;01mand\u001b[39;00m \u001b[38;5;28mself\u001b[39m\u001b[38;5;241m.\u001b[39m_tasks_outstanding \u001b[38;5;241m>\u001b[39m \u001b[38;5;241m0\u001b[39m\n\u001b[0;32m-> 1329\u001b[0m idx, data \u001b[38;5;241m=\u001b[39m \u001b[38;5;28;43mself\u001b[39;49m\u001b[38;5;241;43m.\u001b[39;49m\u001b[43m_get_data\u001b[49m\u001b[43m(\u001b[49m\u001b[43m)\u001b[49m\n\u001b[1;32m   1330\u001b[0m \u001b[38;5;28mself\u001b[39m\u001b[38;5;241m.\u001b[39m_tasks_outstanding \u001b[38;5;241m-\u001b[39m\u001b[38;5;241m=\u001b[39m \u001b[38;5;241m1\u001b[39m\n\u001b[1;32m   1331\u001b[0m \u001b[38;5;28;01mif\u001b[39;00m \u001b[38;5;28mself\u001b[39m\u001b[38;5;241m.\u001b[39m_dataset_kind \u001b[38;5;241m==\u001b[39m _DatasetKind\u001b[38;5;241m.\u001b[39mIterable:\n\u001b[1;32m   1332\u001b[0m     \u001b[38;5;66;03m# Check for _IterableDatasetStopIteration\u001b[39;00m\n",
      "File \u001b[0;32m~/.local/lib/python3.10/site-packages/torch/utils/data/dataloader.py:1295\u001b[0m, in \u001b[0;36m_MultiProcessingDataLoaderIter._get_data\u001b[0;34m(self)\u001b[0m\n\u001b[1;32m   1291\u001b[0m     \u001b[38;5;66;03m# In this case, `self._data_queue` is a `queue.Queue`,. But we don't\u001b[39;00m\n\u001b[1;32m   1292\u001b[0m     \u001b[38;5;66;03m# need to call `.task_done()` because we don't use `.join()`.\u001b[39;00m\n\u001b[1;32m   1293\u001b[0m \u001b[38;5;28;01melse\u001b[39;00m:\n\u001b[1;32m   1294\u001b[0m     \u001b[38;5;28;01mwhile\u001b[39;00m \u001b[38;5;28;01mTrue\u001b[39;00m:\n\u001b[0;32m-> 1295\u001b[0m         success, data \u001b[38;5;241m=\u001b[39m \u001b[38;5;28;43mself\u001b[39;49m\u001b[38;5;241;43m.\u001b[39;49m\u001b[43m_try_get_data\u001b[49m\u001b[43m(\u001b[49m\u001b[43m)\u001b[49m\n\u001b[1;32m   1296\u001b[0m         \u001b[38;5;28;01mif\u001b[39;00m success:\n\u001b[1;32m   1297\u001b[0m             \u001b[38;5;28;01mreturn\u001b[39;00m data\n",
      "File \u001b[0;32m~/.local/lib/python3.10/site-packages/torch/utils/data/dataloader.py:1133\u001b[0m, in \u001b[0;36m_MultiProcessingDataLoaderIter._try_get_data\u001b[0;34m(self, timeout)\u001b[0m\n\u001b[1;32m   1120\u001b[0m \u001b[38;5;28;01mdef\u001b[39;00m \u001b[38;5;21m_try_get_data\u001b[39m(\u001b[38;5;28mself\u001b[39m, timeout\u001b[38;5;241m=\u001b[39m_utils\u001b[38;5;241m.\u001b[39mMP_STATUS_CHECK_INTERVAL):\n\u001b[1;32m   1121\u001b[0m     \u001b[38;5;66;03m# Tries to fetch data from `self._data_queue` once for a given timeout.\u001b[39;00m\n\u001b[1;32m   1122\u001b[0m     \u001b[38;5;66;03m# This can also be used as inner loop of fetching without timeout, with\u001b[39;00m\n\u001b[0;32m   (...)\u001b[0m\n\u001b[1;32m   1130\u001b[0m     \u001b[38;5;66;03m# Returns a 2-tuple:\u001b[39;00m\n\u001b[1;32m   1131\u001b[0m     \u001b[38;5;66;03m#   (bool: whether successfully get data, any: data if successful else None)\u001b[39;00m\n\u001b[1;32m   1132\u001b[0m     \u001b[38;5;28;01mtry\u001b[39;00m:\n\u001b[0;32m-> 1133\u001b[0m         data \u001b[38;5;241m=\u001b[39m \u001b[38;5;28;43mself\u001b[39;49m\u001b[38;5;241;43m.\u001b[39;49m\u001b[43m_data_queue\u001b[49m\u001b[38;5;241;43m.\u001b[39;49m\u001b[43mget\u001b[49m\u001b[43m(\u001b[49m\u001b[43mtimeout\u001b[49m\u001b[38;5;241;43m=\u001b[39;49m\u001b[43mtimeout\u001b[49m\u001b[43m)\u001b[49m\n\u001b[1;32m   1134\u001b[0m         \u001b[38;5;28;01mreturn\u001b[39;00m (\u001b[38;5;28;01mTrue\u001b[39;00m, data)\n\u001b[1;32m   1135\u001b[0m     \u001b[38;5;28;01mexcept\u001b[39;00m \u001b[38;5;167;01mException\u001b[39;00m \u001b[38;5;28;01mas\u001b[39;00m e:\n\u001b[1;32m   1136\u001b[0m         \u001b[38;5;66;03m# At timeout and error, we manually check whether any worker has\u001b[39;00m\n\u001b[1;32m   1137\u001b[0m         \u001b[38;5;66;03m# failed. Note that this is the only mechanism for Windows to detect\u001b[39;00m\n\u001b[1;32m   1138\u001b[0m         \u001b[38;5;66;03m# worker failures.\u001b[39;00m\n",
      "File \u001b[0;32m/usr/lib/python3.10/multiprocessing/queues.py:122\u001b[0m, in \u001b[0;36mQueue.get\u001b[0;34m(self, block, timeout)\u001b[0m\n\u001b[1;32m    120\u001b[0m         \u001b[38;5;28mself\u001b[39m\u001b[38;5;241m.\u001b[39m_rlock\u001b[38;5;241m.\u001b[39mrelease()\n\u001b[1;32m    121\u001b[0m \u001b[38;5;66;03m# unserialize the data after having released the lock\u001b[39;00m\n\u001b[0;32m--> 122\u001b[0m \u001b[38;5;28;01mreturn\u001b[39;00m \u001b[43m_ForkingPickler\u001b[49m\u001b[38;5;241;43m.\u001b[39;49m\u001b[43mloads\u001b[49m\u001b[43m(\u001b[49m\u001b[43mres\u001b[49m\u001b[43m)\u001b[49m\n",
      "File \u001b[0;32m~/.local/lib/python3.10/site-packages/torch/multiprocessing/reductions.py:497\u001b[0m, in \u001b[0;36mrebuild_storage_fd\u001b[0;34m(cls, df, size)\u001b[0m\n\u001b[1;32m    495\u001b[0m fd \u001b[38;5;241m=\u001b[39m df\u001b[38;5;241m.\u001b[39mdetach()\n\u001b[1;32m    496\u001b[0m \u001b[38;5;28;01mtry\u001b[39;00m:\n\u001b[0;32m--> 497\u001b[0m     storage \u001b[38;5;241m=\u001b[39m storage_from_cache(\u001b[38;5;28mcls\u001b[39m, \u001b[43mfd_id\u001b[49m\u001b[43m(\u001b[49m\u001b[43mfd\u001b[49m\u001b[43m)\u001b[49m)\n\u001b[1;32m    498\u001b[0m     \u001b[38;5;28;01mif\u001b[39;00m storage \u001b[38;5;129;01mis\u001b[39;00m \u001b[38;5;129;01mnot\u001b[39;00m \u001b[38;5;28;01mNone\u001b[39;00m:\n\u001b[1;32m    499\u001b[0m         \u001b[38;5;28;01mreturn\u001b[39;00m storage\n",
      "File \u001b[0;32m~/.local/lib/python3.10/site-packages/torch/multiprocessing/reductions.py:479\u001b[0m, in \u001b[0;36mfd_id\u001b[0;34m(fd)\u001b[0m\n\u001b[1;32m    463\u001b[0m         rebuild_values_func, rebuild_values_args \u001b[38;5;241m=\u001b[39m reduce_tensor(sparse\u001b[38;5;241m.\u001b[39mvalues())\n\u001b[1;32m    464\u001b[0m         \u001b[38;5;28;01mreturn\u001b[39;00m (\n\u001b[1;32m    465\u001b[0m             rebuild_sparse_compressed_tensor,\n\u001b[1;32m    466\u001b[0m             (\n\u001b[0;32m   (...)\u001b[0m\n\u001b[1;32m    475\u001b[0m             ),\n\u001b[1;32m    476\u001b[0m         )\n\u001b[0;32m--> 479\u001b[0m \u001b[38;5;28;01mdef\u001b[39;00m \u001b[38;5;21mfd_id\u001b[39m(fd):\n\u001b[1;32m    480\u001b[0m     \u001b[38;5;66;03m# Returns a tuple which uniquely identifies a file descriptor. In Mac OS,\u001b[39;00m\n\u001b[1;32m    481\u001b[0m     \u001b[38;5;66;03m# this doesn't work with shared memory handles, which is why we don't\u001b[39;00m\n\u001b[1;32m    482\u001b[0m     \u001b[38;5;66;03m# support the \"file_descriptor\" sharing method on that platform.\u001b[39;00m\n\u001b[1;32m    483\u001b[0m     stat \u001b[38;5;241m=\u001b[39m os\u001b[38;5;241m.\u001b[39mfstat(fd)\n\u001b[1;32m    484\u001b[0m     \u001b[38;5;28;01mreturn\u001b[39;00m (stat\u001b[38;5;241m.\u001b[39mst_ino, stat\u001b[38;5;241m.\u001b[39mst_dev)\n",
      "\u001b[0;31mKeyboardInterrupt\u001b[0m: "
     ]
    }
   ],
   "source": [
    "import torch\n",
    "import torch.nn.functional as F\n",
    "from torch.nn import Sequential, Conv2d, Tanh, ReLU, Dropout, Linear, MaxPool2d\n",
    "import torch.optim as optim\n",
    "import torch.nn as nn\n",
    "\n",
    "if torch.cuda.is_available():\n",
    "  device = torch.device('cuda')\n",
    "elif torch.backends.mps.is_available():\n",
    "  device = torch.device('mps')\n",
    "else:\n",
    "  device = torch.device('cpu')\n",
    "\n",
    "def train(model, device, train_loader,  optimizer, epoch):\n",
    "    model.train()\n",
    "    total_loss = 0\n",
    "    for batch_idx, (data, target) in enumerate(train_loader):\n",
    "        data, target = data.to(device).float(), target.to(device).float()\n",
    "        target = target.view(-1, 1)\n",
    "        optimizer.zero_grad()\n",
    "        output = model(data)\n",
    "        loss = F.binary_cross_entropy(output, target, reduction=\"mean\") # Read the documentation.\n",
    "        total_loss += loss.item() * len(data) # We average the loss\n",
    "        loss.backward()\n",
    "        optimizer.step()\n",
    "    total_loss /= len(train_loader.dataset)\n",
    "    return {\"loss\": total_loss}\n",
    "\n",
    "def test(model, device, test_loader):\n",
    "    model.eval()\n",
    "    total_loss = 0\n",
    "    correct = 0\n",
    "    with torch.no_grad():\n",
    "        for batch_idx, (data, target) in enumerate(test_loader):\n",
    "            data, target = data.to(device).float(), target.to(device).float()\n",
    "            target = target.view(-1, 1)\n",
    "            output = model(data)\n",
    "            loss = F.binary_cross_entropy(output, target, reduction=\"sum\")\n",
    "            total_loss += loss.item()\n",
    "            predictions = torch.round(output * 100) / 100\n",
    "            correct += predictions.eq(target.view_as(predictions)).sum().item()\n",
    "    total_loss /= len(test_loader.dataset)\n",
    "    return {\"loss\": total_loss, \"correct %\": int(10000*correct/len(test_loader.dataset))/100}\n",
    "\n",
    "\n",
    "\n",
    "class GoFindWin(nn.Module):\n",
    "  def __init__(self):\n",
    "    super(GoFindWin, self).__init__()\n",
    "    self.flatten = nn.Flatten(start_dim=1) # Do not flatten the batch dimension\n",
    "\n",
    "    self.conv1 = Conv2d(2, 32, 3, padding=\"same\")\n",
    "    self.conv2 = Conv2d(32, 64, 3, padding=\"same\")\n",
    "    # self.sub1 = MaxPool2d(2)\n",
    "    self.flatten = nn.Flatten(start_dim=1)\n",
    "\n",
    "    self.dense1 = nn.Linear(64*8*8, 128)\n",
    "    self.dense2 = nn.Linear(128, 64)\n",
    "    self.dense3 = nn.Linear(64, 1)\n",
    "    \n",
    "\n",
    "  def forward(self, x):\n",
    "    x = self.conv1(x)\n",
    "    x = F.relu(x)\n",
    "    x = self.conv2(x)\n",
    "    x = F.relu(x)\n",
    "    # x = self.sub1(x)\n",
    "    x = self.flatten(x)\n",
    "    x = self.dense1(x)\n",
    "    x = F.relu(x)\n",
    "    x = self.dense2(x)\n",
    "    x = F.relu(x)\n",
    "    x = self.dense3(x)\n",
    "    out = F.sigmoid(x) # In torch, we can either use log_softmax + nll_loss or the CrossEntropy (without the last layer of softmax)\n",
    "    return out\n",
    "\n",
    "\n",
    "def format_data(datas):\n",
    "    datas_length = len(datas)\n",
    "    X = []\n",
    "    Y = np.zeros(datas_length, dtype=np.double)\n",
    "    for i in range(datas_length):\n",
    "        X.append(coord_to_board(datas[i][\"black_coord\"], datas[i][\"white_coord\"]))\n",
    "        Y[i] = datas[i][\"black_wins\"]/100\n",
    "    return np.array(X), Y\n",
    "\n",
    "# model = torch.load(\"model.pth\")\n",
    "model = GoFindWin().to(device).float()\n",
    "\n",
    "# print(model)\n",
    "\n",
    "batch_size = 32\n",
    "\n",
    "train_data, test_data = prepare_data(data[:5000])\n",
    "\n",
    "train_x, train_y = format_data(train_data)\n",
    "test_x, test_y = format_data(train_data)\n",
    "# print(train_data[0])\n",
    "# print(train_x[0], train_y[0])\n",
    "# print(test_x[0], test_y[0])\n",
    "trainloader = torch.utils.data.DataLoader(list(zip(train_x, train_y)), batch_size=batch_size, shuffle=True, num_workers=1)\n",
    "testloader = torch.utils.data.DataLoader(list(zip(test_x, test_y)), batch_size=batch_size, shuffle=False, num_workers=1)\n",
    "print(len(testloader))\n",
    "\n",
    "optimizer = optim.Adam(model.parameters(), lr=0.02)\n",
    "for epoch in range(1, 100):\n",
    "  train_stats = train(model, device, trainloader, optimizer, epoch)\n",
    "  test_stats = test(model, device, testloader)\n",
    "  print(train_stats, test_stats)\n",
    "\n",
    "torch.save(model, \"model.pth\")\n"
   ]
  },
  {
   "cell_type": "markdown",
   "metadata": {
    "id": "bVnqHnBqN1Ws"
   },
   "source": [
    "# Last step\n",
    "\n",
    "Prepare your model to predict the set of new data to predict, you will have only 6 hours to push your predictions.\n",
    "\n",
    "(may be you would like to express, when guessing the percentage of wins for blacks, that it should reflect the fact that this score should be the same for all the symmetries you considered)..."
   ]
  },
  {
   "cell_type": "code",
   "execution_count": null,
   "metadata": {
    "id": "39RJHPbmN1Ws"
   },
   "outputs": [],
   "source": []
  }
 ],
 "metadata": {
  "colab": {
   "provenance": []
  },
  "kernelspec": {
   "display_name": "Python 3 (ipykernel)",
   "language": "python",
   "name": "python3"
  },
  "language_info": {
   "codemirror_mode": {
    "name": "ipython",
    "version": 3
   },
   "file_extension": ".py",
   "mimetype": "text/x-python",
   "name": "python",
   "nbconvert_exporter": "python",
   "pygments_lexer": "ipython3",
   "version": "3.10.12"
  }
 },
 "nbformat": 4,
 "nbformat_minor": 1
}
